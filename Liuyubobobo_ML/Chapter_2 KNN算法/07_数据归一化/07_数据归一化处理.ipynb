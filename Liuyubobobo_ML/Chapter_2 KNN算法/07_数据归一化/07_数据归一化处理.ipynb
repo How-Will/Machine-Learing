{
 "cells": [
  {
   "cell_type": "markdown",
   "metadata": {},
   "source": [
    "### 为什么要做数据归一化?\n",
    "\n",
    "以KNN算法为例，目前有两个肿瘤病人样本，每个样本有两个特征：肿瘤大小(cm)和发现时间(天)\n",
    "样本1：1cm，200天  样本2：5cm，100天\n",
    "计算两个样本间的距离时:会发现时间起了主导作用。\n",
    "可以发现如果不对数据进行一些基本处理，直接计算两个样本的距离时，可能有偏差。\n",
    "故要做数据归一化。即将所有的数据映射到同一尺度。常见归一化方法有：\n",
    "1. 最值归一化：把所有数据映射到0-1之间，适用于分布有明显边界的情况，缺点是受outlier（没有明显边界）影响比较大。\n",
    "2. 均值方差归一化：把所有的数据归一到均值为0，方差为1的分布中。适用于没有明显边界，可能存在极端数据值的情况。有明显边界使用该归一化方法也是有效的。**推荐**"
   ]
  },
  {
   "cell_type": "markdown",
   "metadata": {},
   "source": [
    "### 最值归一化"
   ]
  },
  {
   "cell_type": "code",
   "execution_count": 1,
   "metadata": {},
   "outputs": [],
   "source": [
    "import numpy as np\n",
    "import matplotlib.pyplot as plt"
   ]
  },
  {
   "cell_type": "code",
   "execution_count": 2,
   "metadata": {
    "scrolled": true
   },
   "outputs": [],
   "source": [
    "x = np.random.randint(0, 100, 100) # 生成100个范围在[0,100)的随机数"
   ]
  },
  {
   "cell_type": "code",
   "execution_count": 3,
   "metadata": {},
   "outputs": [
    {
     "data": {
      "text/plain": [
       "array([12,  7, 41, 40, 40,  9, 59, 25,  1, 51, 30, 97, 84, 47, 50, 81,  9,\n",
       "       36, 41, 83, 45, 11, 69, 13, 63, 54, 92, 25, 10, 51,  4, 31, 80, 75,\n",
       "       78, 70, 32, 30, 75, 17, 97, 96, 16, 57, 94, 48, 64, 44, 81, 80,  7,\n",
       "       46, 31,  3, 98, 27, 87, 77, 60, 43, 65, 82,  0, 90, 30, 98, 81, 16,\n",
       "       48, 49, 24, 83, 73, 96, 93, 77, 12,  3,  8,  2, 33, 70, 36,  8, 61,\n",
       "       19, 10, 53,  8,  8, 35, 12, 22, 81, 28, 70, 68, 36, 53, 90])"
      ]
     },
     "execution_count": 3,
     "metadata": {},
     "output_type": "execute_result"
    }
   ],
   "source": [
    "x"
   ]
  },
  {
   "cell_type": "code",
   "execution_count": 4,
   "metadata": {},
   "outputs": [
    {
     "data": {
      "text/plain": [
       "array([0.12244898, 0.07142857, 0.41836735, 0.40816327, 0.40816327,\n",
       "       0.09183673, 0.60204082, 0.25510204, 0.01020408, 0.52040816,\n",
       "       0.30612245, 0.98979592, 0.85714286, 0.47959184, 0.51020408,\n",
       "       0.82653061, 0.09183673, 0.36734694, 0.41836735, 0.84693878,\n",
       "       0.45918367, 0.1122449 , 0.70408163, 0.13265306, 0.64285714,\n",
       "       0.55102041, 0.93877551, 0.25510204, 0.10204082, 0.52040816,\n",
       "       0.04081633, 0.31632653, 0.81632653, 0.76530612, 0.79591837,\n",
       "       0.71428571, 0.32653061, 0.30612245, 0.76530612, 0.17346939,\n",
       "       0.98979592, 0.97959184, 0.16326531, 0.58163265, 0.95918367,\n",
       "       0.48979592, 0.65306122, 0.44897959, 0.82653061, 0.81632653,\n",
       "       0.07142857, 0.46938776, 0.31632653, 0.03061224, 1.        ,\n",
       "       0.2755102 , 0.8877551 , 0.78571429, 0.6122449 , 0.43877551,\n",
       "       0.66326531, 0.83673469, 0.        , 0.91836735, 0.30612245,\n",
       "       1.        , 0.82653061, 0.16326531, 0.48979592, 0.5       ,\n",
       "       0.24489796, 0.84693878, 0.74489796, 0.97959184, 0.94897959,\n",
       "       0.78571429, 0.12244898, 0.03061224, 0.08163265, 0.02040816,\n",
       "       0.33673469, 0.71428571, 0.36734694, 0.08163265, 0.62244898,\n",
       "       0.19387755, 0.10204082, 0.54081633, 0.08163265, 0.08163265,\n",
       "       0.35714286, 0.12244898, 0.2244898 , 0.82653061, 0.28571429,\n",
       "       0.71428571, 0.69387755, 0.36734694, 0.54081633, 0.91836735])"
      ]
     },
     "execution_count": 4,
     "metadata": {},
     "output_type": "execute_result"
    }
   ],
   "source": [
    "(x - np.min(x)) / (np.max(x) - np.min(x)) # 进行最值归一化"
   ]
  },
  {
   "cell_type": "code",
   "execution_count": 5,
   "metadata": {},
   "outputs": [],
   "source": [
    "# 对矩阵进行归一化\n",
    "X = np.random.randint(0, 100, (50, 2))  # 生成一个50 * 2的矩阵，每个元素的范围是[0,100)"
   ]
  },
  {
   "cell_type": "code",
   "execution_count": 6,
   "metadata": {},
   "outputs": [
    {
     "data": {
      "text/plain": [
       "array([[84, 56],\n",
       "       [37, 26],\n",
       "       [48, 11],\n",
       "       [76, 42],\n",
       "       [24, 58],\n",
       "       [66, 56],\n",
       "       [89, 84],\n",
       "       [92, 43],\n",
       "       [68, 45],\n",
       "       [93,  9]])"
      ]
     },
     "execution_count": 6,
     "metadata": {},
     "output_type": "execute_result"
    }
   ],
   "source": [
    "# 观察前10个样本\n",
    "X[:10, :]"
   ]
  },
  {
   "cell_type": "code",
   "execution_count": 7,
   "metadata": {},
   "outputs": [],
   "source": [
    "# 因为我们归一化得到的结果是浮点数，而randint得到的整型，对它进行操作得到的仍是整型。故需要对X进行强制类型转换\n",
    "X = np.array(X, dtype = float)"
   ]
  },
  {
   "cell_type": "code",
   "execution_count": 8,
   "metadata": {},
   "outputs": [
    {
     "data": {
      "text/plain": [
       "array([[84., 56.],\n",
       "       [37., 26.],\n",
       "       [48., 11.],\n",
       "       [76., 42.],\n",
       "       [24., 58.],\n",
       "       [66., 56.],\n",
       "       [89., 84.],\n",
       "       [92., 43.],\n",
       "       [68., 45.],\n",
       "       [93.,  9.]])"
      ]
     },
     "execution_count": 8,
     "metadata": {},
     "output_type": "execute_result"
    }
   ],
   "source": [
    "X[:10, :]"
   ]
  },
  {
   "cell_type": "code",
   "execution_count": 11,
   "metadata": {},
   "outputs": [],
   "source": [
    "# 对第一个特征（第一列）作归一化\n",
    "X[:, 0] = (X[:, 0] - np.min(X[:, 0])) / (np.max(X[:, 0]) - np.min(X[:, 0]))\n",
    "# 对第二个特征（第二列）作归一化\n",
    "X[:, 1] = (X[:, 1] - np.min(X[:, 1])) / (np.max(X[:, 1]) - np.min(X[:, 1]))"
   ]
  },
  {
   "cell_type": "code",
   "execution_count": 12,
   "metadata": {},
   "outputs": [
    {
     "data": {
      "text/plain": [
       "array([[0.8556701 , 0.56122449],\n",
       "       [0.37113402, 0.25510204],\n",
       "       [0.48453608, 0.10204082],\n",
       "       [0.77319588, 0.41836735],\n",
       "       [0.2371134 , 0.58163265],\n",
       "       [0.67010309, 0.56122449],\n",
       "       [0.90721649, 0.84693878],\n",
       "       [0.93814433, 0.42857143],\n",
       "       [0.69072165, 0.44897959],\n",
       "       [0.94845361, 0.08163265]])"
      ]
     },
     "execution_count": 12,
     "metadata": {},
     "output_type": "execute_result"
    }
   ],
   "source": [
    "X[:10, :] # 观察前10个样本"
   ]
  },
  {
   "cell_type": "code",
   "execution_count": 13,
   "metadata": {},
   "outputs": [
    {
     "data": {
      "image/png": "[encoded data removed]",
      "text/plain": [
       "<Figure size 432x288 with 1 Axes>"
      ]
     },
     "metadata": {
      "needs_background": "light"
     },
     "output_type": "display_data"
    }
   ],
   "source": [
    "plt.scatter(X[:, 0], X[:, 1])\n",
    "plt.show()"
   ]
  },
  {
   "cell_type": "code",
   "execution_count": 15,
   "metadata": {},
   "outputs": [
    {
     "data": {
      "text/plain": [
       "0.5360824742268041"
      ]
     },
     "execution_count": 15,
     "metadata": {},
     "output_type": "execute_result"
    }
   ],
   "source": [
    "np.mean(X[:, 0]) # 观察第一列数据的均值"
   ]
  },
  {
   "cell_type": "code",
   "execution_count": 16,
   "metadata": {},
   "outputs": [
    {
     "data": {
      "text/plain": [
       "0.30573224798987375"
      ]
     },
     "execution_count": 16,
     "metadata": {},
     "output_type": "execute_result"
    }
   ],
   "source": [
    "np.std(X[:, 0]) # 观察第一列数据的方差"
   ]
  },
  {
   "cell_type": "code",
   "execution_count": 17,
   "metadata": {},
   "outputs": [
    {
     "data": {
      "text/plain": [
       "0.5146938775510205"
      ]
     },
     "execution_count": 17,
     "metadata": {},
     "output_type": "execute_result"
    }
   ],
   "source": [
    "np.mean(X[:, 1])"
   ]
  },
  {
   "cell_type": "code",
   "execution_count": 18,
   "metadata": {},
   "outputs": [
    {
     "data": {
      "text/plain": [
       "0.29500322956886416"
      ]
     },
     "execution_count": 18,
     "metadata": {},
     "output_type": "execute_result"
    }
   ],
   "source": [
    "np.std(X[:, 1])"
   ]
  },
  {
   "cell_type": "markdown",
   "metadata": {},
   "source": [
    "### 均值方差归一化"
   ]
  },
  {
   "cell_type": "code",
   "execution_count": 19,
   "metadata": {},
   "outputs": [],
   "source": [
    "X2 = np.random.randint(0, 100, (50, 2))"
   ]
  },
  {
   "cell_type": "code",
   "execution_count": 20,
   "metadata": {},
   "outputs": [],
   "source": [
    "X2 = np.array(X2, dtype = float) # 数据类型转换"
   ]
  },
  {
   "cell_type": "code",
   "execution_count": 22,
   "metadata": {},
   "outputs": [
    {
     "data": {
      "text/plain": [
       "array([[74., 84.],\n",
       "       [43., 69.],\n",
       "       [97., 89.],\n",
       "       [70., 81.],\n",
       "       [87., 25.],\n",
       "       [14., 62.],\n",
       "       [ 4., 91.],\n",
       "       [16., 72.],\n",
       "       [19., 94.],\n",
       "       [78., 36.]])"
      ]
     },
     "execution_count": 22,
     "metadata": {},
     "output_type": "execute_result"
    }
   ],
   "source": [
    "X2[:10, :]"
   ]
  },
  {
   "cell_type": "code",
   "execution_count": 23,
   "metadata": {},
   "outputs": [],
   "source": [
    "X2[:, 0] = (X2[:, 0] - np.mean(X2[:, 0])) / np.std(X2[:, 0])  # 均方差归一化\n",
    "X2[:, 1] = (X2[:, 1] - np.mean(X2[:, 1])) / np.std(X2[:, 1])"
   ]
  },
  {
   "cell_type": "code",
   "execution_count": 24,
   "metadata": {},
   "outputs": [
    {
     "data": {
      "image/png": "[encoded data removed]",
      "text/plain": [
       "<Figure size 432x288 with 1 Axes>"
      ]
     },
     "metadata": {
      "needs_background": "light"
     },
     "output_type": "display_data"
    }
   ],
   "source": [
    "plt.scatter(X2[:, 0], X2[:, 1])\n",
    "plt.show()"
   ]
  },
  {
   "cell_type": "code",
   "execution_count": 25,
   "metadata": {},
   "outputs": [
    {
     "data": {
      "text/plain": [
       "-7.993605777301127e-17"
      ]
     },
     "execution_count": 25,
     "metadata": {},
     "output_type": "execute_result"
    }
   ],
   "source": [
    "np.mean(X2[:, 0])"
   ]
  },
  {
   "cell_type": "code",
   "execution_count": 26,
   "metadata": {},
   "outputs": [
    {
     "data": {
      "text/plain": [
       "1.0"
      ]
     },
     "execution_count": 26,
     "metadata": {},
     "output_type": "execute_result"
    }
   ],
   "source": [
    "np.std(X2[:, 0])"
   ]
  },
  {
   "cell_type": "code",
   "execution_count": 27,
   "metadata": {},
   "outputs": [
    {
     "data": {
      "text/plain": [
       "-1.4654943925052067e-16"
      ]
     },
     "execution_count": 27,
     "metadata": {},
     "output_type": "execute_result"
    }
   ],
   "source": [
    "np.mean(X2[:, 1])"
   ]
  },
  {
   "cell_type": "code",
   "execution_count": 28,
   "metadata": {},
   "outputs": [
    {
     "data": {
      "text/plain": [
       "0.9999999999999998"
      ]
     },
     "execution_count": 28,
     "metadata": {},
     "output_type": "execute_result"
    }
   ],
   "source": [
    "np.std(X2[:, 1])"
   ]
  }
 ],
 "metadata": {
  "kernelspec": {
   "display_name": "Python 3",
   "language": "python",
   "name": "python3"
  },
  "language_info": {
   "codemirror_mode": {
    "name": "ipython",
    "version": 3
   },
   "file_extension": ".py",
   "mimetype": "text/x-python",
   "name": "python",
   "nbconvert_exporter": "python",
   "pygments_lexer": "ipython3",
   "version": "3.8.5"
  }
 },
 "nbformat": 4,
 "nbformat_minor": 4
}
