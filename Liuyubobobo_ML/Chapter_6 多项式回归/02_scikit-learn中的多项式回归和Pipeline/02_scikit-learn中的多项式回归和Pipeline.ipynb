{
 "cells": [
  {
   "cell_type": "code",
   "execution_count": 1,
   "id": "6923fa66",
   "metadata": {},
   "outputs": [],
   "source": [
    "import numpy as np\n",
    "import matplotlib.pyplot as plt"
   ]
  },
  {
   "cell_type": "code",
   "execution_count": 2,
   "id": "21f92f4a",
   "metadata": {},
   "outputs": [],
   "source": [
    "x = np.random.uniform(-3, 3, size = 100)\n",
    "X = x.reshape(-1, 1)  # 100个样本，每个样本一个特征\n",
    "y = 0.5 * x**2 + x + 2 + np.random.normal(0, 1, 100)"
   ]
  },
  {
   "cell_type": "code",
   "execution_count": 3,
   "id": "d23eee51",
   "metadata": {},
   "outputs": [],
   "source": [
    "from sklearn.preprocessing import PolynomialFeatures"
   ]
  },
  {
   "cell_type": "code",
   "execution_count": 4,
   "id": "c04b64da",
   "metadata": {},
   "outputs": [],
   "source": [
    "poly = PolynomialFeatures(degree=2)  # 最高次项小于等于2\n",
    "poly.fit(X)\n",
    "X2 = poly.transform(X) # 添加特征"
   ]
  },
  {
   "cell_type": "code",
   "execution_count": 5,
   "id": "5507013c",
   "metadata": {},
   "outputs": [
    {
     "data": {
      "text/plain": [
       "(100, 3)"
      ]
     },
     "execution_count": 5,
     "metadata": {},
     "output_type": "execute_result"
    }
   ],
   "source": [
    "X2.shape  # 添加了2个特征，100个样本，每个样本3个特征"
   ]
  },
  {
   "cell_type": "code",
   "execution_count": 6,
   "id": "13b439cf",
   "metadata": {},
   "outputs": [
    {
     "data": {
      "text/plain": [
       "array([[-2.32301037],\n",
       "       [ 2.90054297],\n",
       "       [-0.87651593],\n",
       "       [ 0.97335196],\n",
       "       [-1.24357875]])"
      ]
     },
     "execution_count": 6,
     "metadata": {},
     "output_type": "execute_result"
    }
   ],
   "source": [
    "X[:5, :]  # 观察x的系数"
   ]
  },
  {
   "cell_type": "code",
   "execution_count": 7,
   "id": "76400ed9",
   "metadata": {},
   "outputs": [
    {
     "data": {
      "text/plain": [
       "array([[ 1.        , -2.32301037,  5.39637719],\n",
       "       [ 1.        ,  2.90054297,  8.41314954],\n",
       "       [ 1.        , -0.87651593,  0.76828018],\n",
       "       [ 1.        ,  0.97335196,  0.94741404],\n",
       "       [ 1.        , -1.24357875,  1.54648812]])"
      ]
     },
     "execution_count": 7,
     "metadata": {},
     "output_type": "execute_result"
    }
   ],
   "source": [
    "X2[:5, :]  # x**0, x**1, x**2 的系数"
   ]
  },
  {
   "cell_type": "code",
   "execution_count": 9,
   "id": "7a130a98",
   "metadata": {},
   "outputs": [],
   "source": [
    "from sklearn.linear_model import LinearRegression\n",
    "\n",
    "lin_reg2 = LinearRegression()\n",
    "lin_reg2.fit(X2, y)\n",
    "y_predict2 = lin_reg2.predict(X2)"
   ]
  },
  {
   "cell_type": "code",
   "execution_count": 10,
   "id": "459c4ba1",
   "metadata": {},
   "outputs": [
    {
     "data": {
      "image/png": "[encoded data removed]",
      "text/plain": [
       "<Figure size 432x288 with 1 Axes>"
      ]
     },
     "metadata": {
      "needs_background": "light"
     },
     "output_type": "display_data"
    }
   ],
   "source": [
    "plt.scatter(x, y)\n",
    "plt.plot(np.sort(x), y_predict2[np.argsort(x)], color='r')\n",
    "plt.show()"
   ]
  },
  {
   "cell_type": "markdown",
   "id": "9fdd7b15",
   "metadata": {},
   "source": [
    "### 关于PolynomialFeature"
   ]
  },
  {
   "cell_type": "code",
   "execution_count": 11,
   "id": "c16726e5",
   "metadata": {},
   "outputs": [],
   "source": [
    "X = np.arange(1, 11).reshape(-1, 2)"
   ]
  },
  {
   "cell_type": "code",
   "execution_count": 12,
   "id": "5510a13b",
   "metadata": {},
   "outputs": [
    {
     "data": {
      "text/plain": [
       "array([[ 1,  2],\n",
       "       [ 3,  4],\n",
       "       [ 5,  6],\n",
       "       [ 7,  8],\n",
       "       [ 9, 10]])"
      ]
     },
     "execution_count": 12,
     "metadata": {},
     "output_type": "execute_result"
    }
   ],
   "source": [
    "X # 2个特征"
   ]
  },
  {
   "cell_type": "code",
   "execution_count": 13,
   "id": "c684e35f",
   "metadata": {},
   "outputs": [],
   "source": [
    "poly = PolynomialFeatures(degree = 2)\n",
    "poly.fit(X)\n",
    "X2 = poly.transform(X)"
   ]
  },
  {
   "cell_type": "code",
   "execution_count": 14,
   "id": "c5541605",
   "metadata": {},
   "outputs": [
    {
     "data": {
      "text/plain": [
       "(5, 6)"
      ]
     },
     "execution_count": 14,
     "metadata": {},
     "output_type": "execute_result"
    }
   ],
   "source": [
    "X2.shape  # 添加了4个特征"
   ]
  },
  {
   "cell_type": "code",
   "execution_count": 15,
   "id": "d43e0eff",
   "metadata": {},
   "outputs": [
    {
     "data": {
      "text/plain": [
       "array([[  1.,   1.,   2.,   1.,   2.,   4.],\n",
       "       [  1.,   3.,   4.,   9.,  12.,  16.],\n",
       "       [  1.,   5.,   6.,  25.,  30.,  36.],\n",
       "       [  1.,   7.,   8.,  49.,  56.,  64.],\n",
       "       [  1.,   9.,  10.,  81.,  90., 100.]])"
      ]
     },
     "execution_count": 15,
     "metadata": {},
     "output_type": "execute_result"
    }
   ],
   "source": [
    "X2  # x**0,x1**1,x2**1,x1**2,x2*x2,x2**2的系数，可以发现最高次项不高于2次"
   ]
  },
  {
   "cell_type": "markdown",
   "id": "659afb3e",
   "metadata": {},
   "source": [
    "### Pipeline\n",
    "Pipeline可以将特征处理，数据归一化，线性回归，这3步都整合到一起。避免了对相同的步骤重复书写"
   ]
  },
  {
   "cell_type": "code",
   "execution_count": 16,
   "id": "80035a5d",
   "metadata": {},
   "outputs": [],
   "source": [
    "x = np.random.uniform(-3, 3, size = 100)\n",
    "X = x.reshape(-1, 1)\n",
    "y = 0.5 * x**2 + x + 2 + np.random.normal(0, 1, 100)\n",
    "\n",
    "from sklearn.pipeline import Pipeline\n",
    "from sklearn.preprocessing import StandardScaler\n",
    "\n",
    "poly_reg = Pipeline([\n",
    "    ('ploy', PolynomialFeatures(degree=2)),  # 特征处理，添加x**0, x**2的特征\n",
    "    ('std_scaler', StandardScaler()),  # 数据归一化。当特征之间分布不均匀时\n",
    "    ('lin_reg', LinearRegression())  # 线性回归\n",
    "])"
   ]
  },
  {
   "cell_type": "code",
   "execution_count": 17,
   "id": "9b722852",
   "metadata": {},
   "outputs": [],
   "source": [
    "poly_reg.fit(X, y)\n",
    "y_predict = poly_reg.predict(X)"
   ]
  },
  {
   "cell_type": "code",
   "execution_count": 18,
   "id": "d62e92fd",
   "metadata": {},
   "outputs": [
    {
     "data": {
      "image/png": "[encoded data removed]",
      "text/plain": [
       "<Figure size 432x288 with 1 Axes>"
      ]
     },
     "metadata": {
      "needs_background": "light"
     },
     "output_type": "display_data"
    }
   ],
   "source": [
    "plt.scatter(x, y)\n",
    "plt.plot(np.sort(x), y_predict[np.argsort(x)], color = 'r')\n",
    "plt.show()"
   ]
  }
 ],
 "metadata": {
  "kernelspec": {
   "display_name": "Python 3",
   "language": "python",
   "name": "python3"
  },
  "language_info": {
   "codemirror_mode": {
    "name": "ipython",
    "version": 3
   },
   "file_extension": ".py",
   "mimetype": "text/x-python",
   "name": "python",
   "nbconvert_exporter": "python",
   "pygments_lexer": "ipython3",
   "version": "3.8.8"
  }
 },
 "nbformat": 4,
 "nbformat_minor": 5
}
